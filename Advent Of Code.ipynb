{
 "cells": [
  {
   "attachments": {},
   "cell_type": "markdown",
   "metadata": {},
   "source": [
    "# Advent of Code 2022"
   ]
  },
  {
   "attachments": {},
   "cell_type": "markdown",
   "metadata": {},
   "source": [
    "#### Day 1 #1: Calorie Counting"
   ]
  },
  {
   "cell_type": "code",
   "execution_count": 1,
   "metadata": {},
   "outputs": [],
   "source": [
    "import pandas as pd\n",
    "import numpy as np\n",
    "from collections import defaultdict\n",
    "from typing import List, Tuple"
   ]
  },
  {
   "cell_type": "code",
   "execution_count": 79,
   "metadata": {},
   "outputs": [],
   "source": [
    "def read_input_from_file(file_name:str)->list:\n",
    "    data = open(file_name, 'r').read().split('\\n')\n",
    "    return data"
   ]
  },
  {
   "cell_type": "code",
   "execution_count": 137,
   "metadata": {},
   "outputs": [],
   "source": [
    "file_name_day1 = 'day1input.txt'\n",
    "#data = open(file_name, 'r').read().split('\\n')\n",
    "data = read_input_from_file(file_name_day1)\n",
    "\n",
    "def get_most_calories(data:List[int])->int:\n",
    "    calorie_tracker = defaultdict(int)\n",
    "    i = 1\n",
    "    for cal in data:\n",
    "        if len(cal) !=0:\n",
    "            calorie_tracker['deer#'+str(i)] += int(cal)\n",
    "        else:\n",
    "            i = i + 1\n",
    "    return calorie_tracker.values()"
   ]
  },
  {
   "cell_type": "code",
   "execution_count": 138,
   "metadata": {},
   "outputs": [
    {
     "data": {
      "text/plain": [
       "70613"
      ]
     },
     "execution_count": 138,
     "metadata": {},
     "output_type": "execute_result"
    }
   ],
   "source": [
    "# Test the output \n",
    "max(get_most_calories(data)) # Passed Ans: 70613"
   ]
  },
  {
   "attachments": {},
   "cell_type": "markdown",
   "metadata": {},
   "source": [
    "#### Day 1 #2: Calorie Counting"
   ]
  },
  {
   "cell_type": "code",
   "execution_count": 70,
   "metadata": {},
   "outputs": [
    {
     "data": {
      "text/plain": [
       "205805"
      ]
     },
     "execution_count": 70,
     "metadata": {},
     "output_type": "execute_result"
    }
   ],
   "source": [
    "# total cals of top 3 elves \n",
    "cal_list = list(get_most_calories(data))\n",
    "cal_list.sort(reverse=True)\n",
    "result = sum(cal_list[:3])\n",
    "print(result) # Passed. # Ans: 205805"
   ]
  },
  {
   "attachments": {},
   "cell_type": "markdown",
   "metadata": {},
   "source": [
    "#### Day 2 #1: Calculate Total Points from Rock Paper Scissors games"
   ]
  },
  {
   "cell_type": "code",
   "execution_count": 115,
   "metadata": {},
   "outputs": [
    {
     "name": "stdout",
     "output_type": "stream",
     "text": [
      "2501\n"
     ]
    },
    {
     "data": {
      "text/plain": [
       "'A Y'"
      ]
     },
     "execution_count": 115,
     "metadata": {},
     "output_type": "execute_result"
    }
   ],
   "source": [
    "filename2 = 'day2input.txt'\n",
    "data2 = read_input_from_file(filename2)\n",
    "print(len(data2))\n",
    "data2 = data2[:2500] # the last 2 rows are null \n",
    "data2[-1]"
   ]
  },
  {
   "cell_type": "code",
   "execution_count": 155,
   "metadata": {},
   "outputs": [],
   "source": [
    "# A = Rock, B = Paper, C = Scissors\n",
    "# X = Rock, Y = Paper, Z = Scissors \n",
    "outcome_score = {'Win':6, 'Lose':0,'Draw':3}\n",
    "selection_score = {'X':1,'Y':2,'Z':3}\n",
    "\n",
    "def who_wins(Opponent:str, Selection:str)->str:\n",
    "    assert Opponent in ('A','B','C'), f\"{Opponent} is not a valid choice\"\n",
    "    assert Selection in ('X','Y','Z'), f\"{Selection} is not a valid choice\"\n",
    "    decision_dict = {'Win':[('A','Y'), ('B','Z'),('C','X')],\n",
    "                     'Lose':[('A','Z'), ('B','X'),('C','Y')]\n",
    "    }\n",
    "\n",
    "    if (Opponent,Selection) in decision_dict['Win']:\n",
    "        return 'Win'\n",
    "    elif (Opponent,Selection) in decision_dict['Lose']:\n",
    "        return 'Lose'\n",
    "    else:\n",
    "        return 'Draw'\n",
    "\n",
    "def calculate_score_V1(game_outcome:str, selection:str)->int:\n",
    "    outcome_score = {'Win':6, 'Lose':0,'Draw':3}\n",
    "    selection_score = {'X':1,'Y':2,'Z':3}\n",
    "    total_score = outcome_score[game_outcome] + selection_score[selection]\n",
    "    return total_score\n",
    "\n",
    "def calculate_score_V2(Opponent:str, Selection:str)->int:\n",
    "    outcome_score = {'Win':6, 'Lose':0,'Draw':3}\n",
    "    selection_score = {'X':['Lose',1],'Y':['Draw',2],'Z':['Win',3]}\n",
    "    encrypted_decision = {'Y':{'A':'X', 'B':'Y','C':'Z'},\n",
    "                          'Z':{'A':'Y','B':'Z','C':'X'},\n",
    "                          'X':{'A':'Z','B':'X','C':'Y'}\n",
    "    }\n",
    "    total_score = selection_score[encrypted_decision[Selection][Opponent]][1] + outcome_score[selection_score[Selection][0]]\n",
    "    return total_score\n",
    "\n",
    "\n",
    "def calculate_final_score(game_sheet:List[str],method=int)->int:\n",
    "    final_score = 0\n",
    "    choice = [1,2] \n",
    "    assert method in choice, f'{method} is not a valid choice, please choose 1 or 2'\n",
    "    if method == 1:\n",
    "        for game in game_sheet:\n",
    "            opponent = game[0]\n",
    "            selection = game[2]\n",
    "            outcome = who_wins(opponent, selection)\n",
    "            game_score = calculate_score_V1(outcome, selection)\n",
    "            final_score += game_score\n",
    "        return final_score\n",
    "    elif method == 2:\n",
    "        for game in game_sheet:\n",
    "            opponent = game[0]\n",
    "            selection = game[2]\n",
    "            game_score = calculate_score_V2(opponent, selection)\n",
    "            final_score += game_score\n",
    "        return final_score\n",
    "\n"
   ]
  },
  {
   "cell_type": "code",
   "execution_count": 156,
   "metadata": {},
   "outputs": [
    {
     "data": {
      "text/plain": [
       "11186"
      ]
     },
     "execution_count": 156,
     "metadata": {},
     "output_type": "execute_result"
    }
   ],
   "source": [
    "calculate_final_score(data2, method=2)\n",
    "#Ans = 11186"
   ]
  },
  {
   "attachments": {},
   "cell_type": "markdown",
   "metadata": {},
   "source": [
    "#### Day 3 Part 1"
   ]
  },
  {
   "cell_type": "code",
   "execution_count": 304,
   "metadata": {},
   "outputs": [
    {
     "data": {
      "text/plain": [
       "['vJrrdQlGBQWPTBTF',\n",
       " 'fcpTMnMqMfTnZpgMfPbFBWzHPpBPzbCPPH',\n",
       " 'mcVMfcsqZgmgVcmfgcmZmqZNJhrlrdhNhDdrRRJSvDTRhJlD',\n",
       " 'pMFRmLwHMbRPmMbPPddvqqrrNSTFVttdrN',\n",
       " 'hgfpgCGZcjpcgfvNtdrtjvrdtSrd']"
      ]
     },
     "execution_count": 304,
     "metadata": {},
     "output_type": "execute_result"
    }
   ],
   "source": [
    "filename3 = 'day3input.txt'\n",
    "data3 = read_input_from_file(filename3)\n",
    "data3[:5]  #first 5 rows"
   ]
  },
  {
   "cell_type": "code",
   "execution_count": 297,
   "metadata": {},
   "outputs": [],
   "source": [
    "from string import ascii_lowercase as alc\n",
    "from string import ascii_uppercase as auc\n",
    "\n",
    "\n",
    "def decompartmentize(compartment:str)->Tuple[str]:\n",
    "    #assume lengths of all strings are even \n",
    "    mid_len = int(len(compartment)/2)\n",
    "    return compartment[:mid_len], compartment[mid_len:]\n",
    "\n",
    "def find_common_item(items:List[str])->str:\n",
    "    items_list_set = [set(item) for item in items]\n",
    "    common_item = items_list_set[0]\n",
    "    for item in items_list_set[1:]:\n",
    "        common_item = common_item.intersection(item)\n",
    "    #common_item = list(c1_set.intersection(c2_set))[0]\n",
    "    return list(common_item)[0]\n",
    "\n",
    "def calculate_total_priority_score(data:List[str], part2:bool = False)->int:\n",
    "    priority_score = {k:v for k,v in zip(alc, range(1,len(alc)+1))} # lower case scores only\n",
    "    upper_case_score = {k:v for k,v in zip(auc,range(27,len(auc)+27))} # upper case scores only\n",
    "    priority_score.update(upper_case_score) # all scores \n",
    "    total_score = 0\n",
    "    if part2:\n",
    "        for i in range(0, len(data), 3):\n",
    "            common_item = find_common_item(data[i:i+3])\n",
    "            total_score += priority_score[common_item]\n",
    "        return total_score   \n",
    "    else:\n",
    "        for compartment in data:\n",
    "            c1, c2 = decompartmentize(compartment)\n",
    "            common_item = find_common_item([c1,c2]) # string\n",
    "            total_score += priority_score[common_item]\n",
    "        return total_score\n"
   ]
  },
  {
   "cell_type": "code",
   "execution_count": 303,
   "metadata": {},
   "outputs": [
    {
     "name": "stdout",
     "output_type": "stream",
     "text": [
      "7795\n"
     ]
    }
   ],
   "source": [
    "# Part 1 result\n",
    "print(calculate_total_priority_score(data3))\n",
    "#7795. Passed\n"
   ]
  },
  {
   "attachments": {},
   "cell_type": "markdown",
   "metadata": {},
   "source": [
    "### Day 3 part 2"
   ]
  },
  {
   "cell_type": "code",
   "execution_count": 302,
   "metadata": {},
   "outputs": [
    {
     "name": "stdout",
     "output_type": "stream",
     "text": [
      "2703\n"
     ]
    }
   ],
   "source": [
    "# Part 2 result \n",
    "# 2703. Passed\n",
    "print(calculate_total_priority_score(data3,part2=True))"
   ]
  },
  {
   "attachments": {},
   "cell_type": "markdown",
   "metadata": {},
   "source": [
    "### Day 4 part 1"
   ]
  },
  {
   "cell_type": "code",
   "execution_count": 465,
   "metadata": {},
   "outputs": [],
   "source": [
    "file_name4 = 'day4input.txt'\n",
    "data4 = read_input_from_file(file_name4)\n",
    "data4 = data4[:-1] # First 5 rows"
   ]
  },
  {
   "cell_type": "code",
   "execution_count": 505,
   "metadata": {},
   "outputs": [],
   "source": [
    "def fully_contained_check(r1:str, r2:str)->bool:\n",
    "    R1 = r1.split('-')\n",
    "    R2 = r2.split('-')\n",
    "    min1, max1, min2, max2 = int(R1[0]), int(R1[1]), int(R2[0]), int(R2[1])\n",
    "    if (min1 <= min2) & (max1 >= max2):     \n",
    "        return True\n",
    "    elif (min1 >= min2) & (max1 <= max2):\n",
    "        return True\n",
    "    else:\n",
    "        return False\n",
    "\n",
    "def overlap_pair_check(r1:str, r2:str)->bool:\n",
    "    R1 = r1.split('-')\n",
    "    R2 = r2.split('-')\n",
    "    min1, max1, min2, max2 = int(R1[0]), int(R1[1]), int(R2[0]), int(R2[1])\n",
    "    if (min1 in range(min2, max2+1)) | (max1 in range(min2, max2+1)):\n",
    "        return True\n",
    "    elif (min2 in range(min1, max1+1)) | (max2 in range(min1, max1+1)):\n",
    "        return True\n",
    "    else:\n",
    "        return False\n",
    "\n",
    "\n",
    "def count_fully_contained_pairs(data:List[str])->int:\n",
    "    contained_pairs_count = 0\n",
    "    for pair in data:\n",
    "        assignment = pair.split(',')\n",
    "        if fully_contained_check(assignment[0], assignment[1]):\n",
    "            contained_pairs_count += 1\n",
    "    return contained_pairs_count\n",
    "\n",
    "def count_overlap_pairs(data:List[str])->int:\n",
    "    overlap_pairs_count = 0\n",
    "    for pair in data:\n",
    "        assignment = pair.split(',')\n",
    "        if overlap_pair_check(assignment[0], assignment[1]):\n",
    "            overlap_pairs_count +=1\n",
    "    return overlap_pairs_count   \n",
    "        \n"
   ]
  },
  {
   "cell_type": "code",
   "execution_count": 506,
   "metadata": {},
   "outputs": [
    {
     "data": {
      "text/plain": [
       "True"
      ]
     },
     "execution_count": 506,
     "metadata": {},
     "output_type": "execute_result"
    }
   ],
   "source": [
    "#Test contained function\n",
    "overlap_pair_check('2-6','4-8')\n"
   ]
  },
  {
   "cell_type": "code",
   "execution_count": 488,
   "metadata": {},
   "outputs": [
    {
     "data": {
      "text/plain": [
       "526"
      ]
     },
     "execution_count": 488,
     "metadata": {},
     "output_type": "execute_result"
    }
   ],
   "source": [
    "# Get result\n",
    "count_fully_contained_pairs(data4)"
   ]
  },
  {
   "attachments": {},
   "cell_type": "markdown",
   "metadata": {},
   "source": [
    "### Day 4 part 2"
   ]
  },
  {
   "cell_type": "code",
   "execution_count": 507,
   "metadata": {},
   "outputs": [
    {
     "data": {
      "text/plain": [
       "886"
      ]
     },
     "execution_count": 507,
     "metadata": {},
     "output_type": "execute_result"
    }
   ],
   "source": [
    "count_overlap_pairs(data4)"
   ]
  }
 ],
 "metadata": {
  "kernelspec": {
   "display_name": "Python 3.9.6 64-bit",
   "language": "python",
   "name": "python3"
  },
  "language_info": {
   "codemirror_mode": {
    "name": "ipython",
    "version": 3
   },
   "file_extension": ".py",
   "mimetype": "text/x-python",
   "name": "python",
   "nbconvert_exporter": "python",
   "pygments_lexer": "ipython3",
   "version": "3.9.6"
  },
  "orig_nbformat": 4,
  "vscode": {
   "interpreter": {
    "hash": "52c10e8b13490eca25ec6883dec9a8c5244893d30446aafba57cd751b3f1e8d2"
   }
  }
 },
 "nbformat": 4,
 "nbformat_minor": 2
}
